{
 "cells": [
  {
   "cell_type": "code",
   "id": "initial_id",
   "metadata": {
    "collapsed": true,
    "ExecuteTime": {
     "end_time": "2025-07-10T14:40:39.827164Z",
     "start_time": "2025-07-10T14:40:39.812696Z"
    }
   },
   "source": [
    "import pandas as pd\n",
    "\n",
    "calories_duration = {\n",
    "    \"calories\": [420, 380, 390],\n",
    "    \"duration\": [50, 40, 45]\n",
    "}\n",
    "\n",
    "df = pd.DataFrame(calories_duration)\n",
    "print(df)\n",
    "\n",
    "# locating the first row\n",
    "print(\"\\nFirst row of the DataFrame:\")\n",
    "print(df.loc[0])\n",
    "\n",
    "# locating the row 0 and 1\n",
    "print(\"\\nLocating row 0 and 1:\")\n",
    "print(df.loc[[0, 1]])\n"
   ],
   "outputs": [
    {
     "name": "stdout",
     "output_type": "stream",
     "text": [
      "   calories  duration\n",
      "0       420        50\n",
      "1       380        40\n",
      "2       390        45\n",
      "\n",
      "First row of the DataFrame:\n",
      "calories    420\n",
      "duration     50\n",
      "Name: 0, dtype: int64\n",
      "\n",
      "Locating row 0 and 1:\n",
      "   calories  duration\n",
      "0       420        50\n",
      "1       380        40\n"
     ]
    }
   ],
   "execution_count": 6
  },
  {
   "metadata": {
    "ExecuteTime": {
     "end_time": "2025-07-10T14:41:28.550204Z",
     "start_time": "2025-07-10T14:41:28.536447Z"
    }
   },
   "cell_type": "code",
   "source": [
    "# Named Indexes\n",
    "import pandas as pd\n",
    "\n",
    "calories_duration = {\n",
    "    \"calories\": [420, 380, 390],\n",
    "    \"duration\": [50, 40, 45]\n",
    "}\n",
    "\n",
    "df = pd.DataFrame(calories_duration, index= ['day1', 'day2', 'day3'])\n",
    "print(df)"
   ],
   "id": "c2d9ca6e03a96ad7",
   "outputs": [
    {
     "name": "stdout",
     "output_type": "stream",
     "text": [
      "      calories  duration\n",
      "day1       420        50\n",
      "day2       380        40\n",
      "day3       390        45\n"
     ]
    }
   ],
   "execution_count": 7
  }
 ],
 "metadata": {
  "kernelspec": {
   "display_name": "Python [conda env:base] *",
   "language": "python",
   "name": "conda-base-py"
  },
  "language_info": {
   "codemirror_mode": {
    "name": "ipython",
    "version": 2
   },
   "file_extension": ".py",
   "mimetype": "text/x-python",
   "name": "python",
   "nbconvert_exporter": "python",
   "pygments_lexer": "ipython2",
   "version": "2.7.6"
  }
 },
 "nbformat": 4,
 "nbformat_minor": 5
}
