{
 "cells": [
  {
   "cell_type": "code",
   "id": "initial_id",
   "metadata": {
    "collapsed": true,
    "ExecuteTime": {
     "end_time": "2025-07-10T14:01:36.473247Z",
     "start_time": "2025-07-10T14:01:36.468821Z"
    }
   },
   "source": [
    "import pandas as pd\n",
    "\n",
    "numbers = [1, 7, 2]\n",
    "series = pd.Series(numbers)\n",
    "\n",
    "print(series)"
   ],
   "outputs": [
    {
     "name": "stdout",
     "output_type": "stream",
     "text": [
      "0    1\n",
      "1    7\n",
      "2    2\n",
      "dtype: int64\n"
     ]
    }
   ],
   "execution_count": 3
  },
  {
   "metadata": {},
   "cell_type": "markdown",
   "source": "## Labels",
   "id": "75cf68e8f9fdcc83"
  },
  {
   "metadata": {
    "ExecuteTime": {
     "end_time": "2025-07-10T14:01:42.342675Z",
     "start_time": "2025-07-10T14:01:42.339572Z"
    }
   },
   "cell_type": "code",
   "source": "print(series[0])",
   "id": "5e57342245590702",
   "outputs": [
    {
     "name": "stdout",
     "output_type": "stream",
     "text": [
      "1\n"
     ]
    }
   ],
   "execution_count": 6
  },
  {
   "metadata": {},
   "cell_type": "markdown",
   "source": "## Create Labels with `index`",
   "id": "5f762f2361d6b19a"
  },
  {
   "metadata": {
    "ExecuteTime": {
     "end_time": "2025-07-10T14:12:50.031465Z",
     "start_time": "2025-07-10T14:12:50.018737Z"
    }
   },
   "cell_type": "code",
   "source": [
    "import pandas as pd\n",
    "numbers = [1, 7, 2]\n",
    "series = pd.Series(numbers, index=['x', 'y', 'z'])\n",
    "print(series)\n",
    "\n",
    "print(series['y'])"
   ],
   "id": "28d29461153e3046",
   "outputs": [
    {
     "name": "stdout",
     "output_type": "stream",
     "text": [
      "x    1\n",
      "y    7\n",
      "z    2\n",
      "dtype: int64\n",
      "7\n"
     ]
    }
   ],
   "execution_count": 8
  },
  {
   "metadata": {},
   "cell_type": "markdown",
   "source": "## Key/Value Objects as Series",
   "id": "32bdf277b4c8ffed"
  },
  {
   "metadata": {
    "ExecuteTime": {
     "end_time": "2025-07-10T14:19:17.216448Z",
     "start_time": "2025-07-10T14:19:17.208424Z"
    }
   },
   "cell_type": "code",
   "source": [
    "import pandas as pd\n",
    "\n",
    "calories = {\n",
    "    'day1': 420,\n",
    "    'day2': 380,\n",
    "    'day3': 390,\n",
    "}\n",
    "\n",
    "series = pd.Series(calories)\n",
    "print(series)"
   ],
   "id": "6ae954b765938794",
   "outputs": [
    {
     "name": "stdout",
     "output_type": "stream",
     "text": [
      "day1    420\n",
      "day2    380\n",
      "day3    390\n",
      "dtype: int64\n"
     ]
    }
   ],
   "execution_count": 9
  },
  {
   "metadata": {
    "ExecuteTime": {
     "end_time": "2025-07-10T14:20:50.361574Z",
     "start_time": "2025-07-10T14:20:50.336510Z"
    }
   },
   "cell_type": "code",
   "source": [
    "# We can also add only the desired keys to the series if we want to\n",
    "\n",
    "import pandas as pd\n",
    "\n",
    "calories = {\n",
    "    'day1': 420,\n",
    "    'day2': 380,\n",
    "    'day3': 390,\n",
    "}\n",
    "\n",
    "series = pd.Series(calories, index = ['day1', 'day2'])\n",
    "print(series)"
   ],
   "id": "89a11302c85b3dd7",
   "outputs": [
    {
     "name": "stdout",
     "output_type": "stream",
     "text": [
      "day1    420\n",
      "day2    380\n",
      "dtype: int64\n"
     ]
    }
   ],
   "execution_count": 10
  }
 ],
 "metadata": {
  "kernelspec": {
   "display_name": "Python [conda env:base] *",
   "language": "python",
   "name": "conda-base-py"
  },
  "language_info": {
   "codemirror_mode": {
    "name": "ipython",
    "version": 2
   },
   "file_extension": ".py",
   "mimetype": "text/x-python",
   "name": "python",
   "nbconvert_exporter": "python",
   "pygments_lexer": "ipython2",
   "version": "2.7.6"
  }
 },
 "nbformat": 4,
 "nbformat_minor": 5
}
